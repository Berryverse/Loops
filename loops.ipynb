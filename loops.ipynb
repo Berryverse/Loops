{
 "cells": [
  {
   "cell_type": "code",
   "execution_count": null,
   "id": "1a87590a",
   "metadata": {},
   "outputs": [],
   "source": [
    "# While loop, For loop"
   ]
  },
  {
   "cell_type": "code",
   "execution_count": null,
   "id": "01bb75fb",
   "metadata": {},
   "outputs": [],
   "source": [
    "i =1"
   ]
  },
  {
   "cell_type": "code",
   "execution_count": null,
   "id": "39c60bb6",
   "metadata": {},
   "outputs": [],
   "source": [
    "a = list[1, 2, 3, 4, 8, 9, 55]"
   ]
  },
  {
   "cell_type": "code",
   "execution_count": null,
   "id": "16025518",
   "metadata": {},
   "outputs": [],
   "source": [
    "while i < 6:\n",
    "    print(i)\n",
    "    i += 1\n",
    "\n",
    "while True:\n",
    "    print(i)\n"
   ]
  },
  {
   "cell_type": "code",
   "execution_count": null,
   "id": "cbbc6569",
   "metadata": {},
   "outputs": [],
   "source": [
    "for i in b:\n",
    "    if i%2 == 0:\n",
    "        print(i)\n",
    "        print(\"It is an even no.\")\n",
    "    else:\n",
    "        print(i)\n",
    "        print(\"It is an odd no.\")\n",
    "        "
   ]
  }
 ],
 "metadata": {
  "kernelspec": {
   "display_name": "Python 3 (ipykernel)",
   "language": "python",
   "name": "python3"
  },
  "language_info": {
   "codemirror_mode": {
    "name": "ipython",
    "version": 3
   },
   "file_extension": ".py",
   "mimetype": "text/x-python",
   "name": "python",
   "nbconvert_exporter": "python",
   "pygments_lexer": "ipython3",
   "version": "3.10.9"
  }
 },
 "nbformat": 4,
 "nbformat_minor": 5
}
